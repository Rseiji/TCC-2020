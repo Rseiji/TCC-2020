{
 "metadata": {
  "language_info": {
   "codemirror_mode": {
    "name": "ipython",
    "version": 3
   },
   "file_extension": ".py",
   "mimetype": "text/x-python",
   "name": "python",
   "nbconvert_exporter": "python",
   "pygments_lexer": "ipython3",
   "version": "3.8.3-final"
  },
  "orig_nbformat": 2,
  "kernelspec": {
   "name": "Python 3.8.3 64-bit ('base': conda)",
   "display_name": "Python 3.8.3 64-bit ('base': conda)",
   "metadata": {
    "interpreter": {
     "hash": "3e6a1e35187e7d2868ed236d52ca9da5b537f2699a9ca78f769c97311af4b997"
    }
   }
  }
 },
 "nbformat": 4,
 "nbformat_minor": 2,
 "cells": [
  {
   "cell_type": "code",
   "execution_count": 1,
   "metadata": {},
   "outputs": [],
   "source": [
    "import numpy as np\n",
    "import pandas as pd"
   ]
  },
  {
   "cell_type": "code",
   "execution_count": 2,
   "metadata": {
    "tags": []
   },
   "outputs": [],
   "source": [
    "scores = pd.read_csv(\"full_dataset_segment_last_comment_label_100.csv\", sep=',', index_col=\"id\")"
   ]
  },
  {
   "cell_type": "code",
   "execution_count": 3,
   "metadata": {},
   "outputs": [
    {
     "output_type": "execute_result",
     "data": {
      "text/plain": [
       "    pgn_number                       event move_number  move score  \\\n",
       "id                                                                   \n",
       "0           44  alygally's mini-tournament          1W  e2e4   +22   \n",
       "1           44  alygally's mini-tournament          1B  e7e5   +24   \n",
       "2           44  alygally's mini-tournament          2W  b1c3   +29   \n",
       "3           44  alygally's mini-tournament          2B  f8c5   +37   \n",
       "4           44  alygally's mini-tournament          3W  f1c4   +16   \n",
       "\n",
       "                                              comment  segment_id  label  \n",
       "id                                                                        \n",
       "0   This is my first gameknot game against someone...           0      0  \n",
       "1                                                 NaN           1      0  \n",
       "2   I've been playing the Vienna Gambit as white, ...           1      0  \n",
       "3                               Minor disappointment.           2      0  \n",
       "4                                                 NaN           3      0  "
      ],
      "text/html": "<div>\n<style scoped>\n    .dataframe tbody tr th:only-of-type {\n        vertical-align: middle;\n    }\n\n    .dataframe tbody tr th {\n        vertical-align: top;\n    }\n\n    .dataframe thead th {\n        text-align: right;\n    }\n</style>\n<table border=\"1\" class=\"dataframe\">\n  <thead>\n    <tr style=\"text-align: right;\">\n      <th></th>\n      <th>pgn_number</th>\n      <th>event</th>\n      <th>move_number</th>\n      <th>move</th>\n      <th>score</th>\n      <th>comment</th>\n      <th>segment_id</th>\n      <th>label</th>\n    </tr>\n    <tr>\n      <th>id</th>\n      <th></th>\n      <th></th>\n      <th></th>\n      <th></th>\n      <th></th>\n      <th></th>\n      <th></th>\n      <th></th>\n    </tr>\n  </thead>\n  <tbody>\n    <tr>\n      <th>0</th>\n      <td>44</td>\n      <td>alygally's mini-tournament</td>\n      <td>1W</td>\n      <td>e2e4</td>\n      <td>+22</td>\n      <td>This is my first gameknot game against someone...</td>\n      <td>0</td>\n      <td>0</td>\n    </tr>\n    <tr>\n      <th>1</th>\n      <td>44</td>\n      <td>alygally's mini-tournament</td>\n      <td>1B</td>\n      <td>e7e5</td>\n      <td>+24</td>\n      <td>NaN</td>\n      <td>1</td>\n      <td>0</td>\n    </tr>\n    <tr>\n      <th>2</th>\n      <td>44</td>\n      <td>alygally's mini-tournament</td>\n      <td>2W</td>\n      <td>b1c3</td>\n      <td>+29</td>\n      <td>I've been playing the Vienna Gambit as white, ...</td>\n      <td>1</td>\n      <td>0</td>\n    </tr>\n    <tr>\n      <th>3</th>\n      <td>44</td>\n      <td>alygally's mini-tournament</td>\n      <td>2B</td>\n      <td>f8c5</td>\n      <td>+37</td>\n      <td>Minor disappointment.</td>\n      <td>2</td>\n      <td>0</td>\n    </tr>\n    <tr>\n      <th>4</th>\n      <td>44</td>\n      <td>alygally's mini-tournament</td>\n      <td>3W</td>\n      <td>f1c4</td>\n      <td>+16</td>\n      <td>NaN</td>\n      <td>3</td>\n      <td>0</td>\n    </tr>\n  </tbody>\n</table>\n</div>"
     },
     "metadata": {},
     "execution_count": 3
    }
   ],
   "source": [
    "scores.head()"
   ]
  },
  {
   "cell_type": "code",
   "execution_count": 4,
   "metadata": {
    "tags": []
   },
   "outputs": [
    {
     "output_type": "stream",
     "name": "stdout",
     "text": [
      "<class 'pandas.core.frame.DataFrame'>\nInt64Index: 815029 entries, 0 to 815030\nData columns (total 8 columns):\n #   Column      Non-Null Count   Dtype \n---  ------      --------------   ----- \n 0   pgn_number  815029 non-null  int64 \n 1   event       813737 non-null  object\n 2   move_umber  815029 non-null  object\n 3   move        815029 non-null  object\n 4   score       815029 non-null  object\n 5   comment     341076 non-null  object\n 6   segment_id  815029 non-null  int64 \n 7   label       815029 non-null  int64 \ndtypes: int64(3), object(5)\nmemory usage: 56.0+ MB\n"
     ]
    }
   ],
   "source": [
    "scores.info()"
   ]
  },
  {
   "cell_type": "code",
   "execution_count": 5,
   "metadata": {},
   "outputs": [
    {
     "output_type": "execute_result",
     "data": {
      "text/plain": [
       "0    742567\n",
       "1     72462\n",
       "Name: label, dtype: int64"
      ]
     },
     "metadata": {},
     "execution_count": 5
    }
   ],
   "source": [
    "scores['label'].value_counts()"
   ]
  },
  {
   "cell_type": "code",
   "execution_count": 6,
   "metadata": {
    "tags": []
   },
   "outputs": [],
   "source": [
    "partidas_virada = scores[scores['label'] == 1].groupby('pgn_number')"
   ]
  },
  {
   "cell_type": "code",
   "execution_count": 7,
   "metadata": {
    "tags": []
   },
   "outputs": [
    {
     "output_type": "stream",
     "name": "stdout",
     "text": [
      "<class 'pandas.core.frame.DataFrame'>\nInt64Index: 12379 entries, 44 to 67920\nData columns (total 7 columns):\n #   Column      Non-Null Count  Dtype\n---  ------      --------------  -----\n 0   event       12379 non-null  int64\n 1   move_umber  12379 non-null  int64\n 2   move        12379 non-null  int64\n 3   score       12379 non-null  int64\n 4   comment     12379 non-null  int64\n 5   segment_id  12379 non-null  int64\n 6   label       12379 non-null  int64\ndtypes: int64(7)\nmemory usage: 773.7 KB\n"
     ]
    }
   ],
   "source": [
    "partidas_virada.count().info()"
   ]
  },
  {
   "cell_type": "code",
   "execution_count": 8,
   "metadata": {},
   "outputs": [
    {
     "output_type": "execute_result",
     "data": {
      "text/plain": [
       "38817"
      ]
     },
     "metadata": {},
     "execution_count": 8
    }
   ],
   "source": [
    "scores[scores['label'] == 1]['comment'].count()"
   ]
  },
  {
   "cell_type": "code",
   "execution_count": 9,
   "metadata": {},
   "outputs": [],
   "source": [
    "segmentos_virada = scores[scores['label'] == 1].groupby('segment_id')"
   ]
  },
  {
   "cell_type": "code",
   "execution_count": 10,
   "metadata": {},
   "outputs": [
    {
     "output_type": "stream",
     "name": "stdout",
     "text": [
      "<class 'pandas.core.frame.DataFrame'>\nInt64Index: 56587 entries, 8 to 341072\nData columns (total 7 columns):\n #   Column      Non-Null Count  Dtype\n---  ------      --------------  -----\n 0   pgn_number  56587 non-null  int64\n 1   event       56587 non-null  int64\n 2   move_umber  56587 non-null  int64\n 3   move        56587 non-null  int64\n 4   score       56587 non-null  int64\n 5   comment     56587 non-null  int64\n 6   label       56587 non-null  int64\ndtypes: int64(7)\nmemory usage: 3.5 MB\n"
     ]
    }
   ],
   "source": [
    "segmentos_virada.count().info()"
   ]
  },
  {
   "cell_type": "code",
   "execution_count": 15,
   "metadata": {},
   "outputs": [
    {
     "output_type": "execute_result",
     "data": {
      "text/plain": [
       "341076"
      ]
     },
     "metadata": {},
     "execution_count": 15
    }
   ],
   "source": [
    "scores['segment_id'].nunique()"
   ]
  },
  {
   "cell_type": "code",
   "execution_count": 16,
   "metadata": {},
   "outputs": [
    {
     "output_type": "execute_result",
     "data": {
      "text/plain": [
       "0.16590730511674817"
      ]
     },
     "metadata": {},
     "execution_count": 16
    }
   ],
   "source": [
    "56587/341076"
   ]
  },
  {
   "cell_type": "code",
   "execution_count": 4,
   "metadata": {},
   "outputs": [],
   "source": [
    "from langdetect import detect"
   ]
  },
  {
   "cell_type": "code",
   "execution_count": 5,
   "metadata": {},
   "outputs": [],
   "source": [
    "scores[\"language\"] = np.nan"
   ]
  },
  {
   "cell_type": "code",
   "execution_count": 6,
   "metadata": {},
   "outputs": [
    {
     "output_type": "execute_result",
     "data": {
      "text/plain": [
       "    pgn_number                       event move_number  move score  \\\n",
       "id                                                                   \n",
       "0           44  alygally's mini-tournament          1W  e2e4   +22   \n",
       "1           44  alygally's mini-tournament          1B  e7e5   +24   \n",
       "2           44  alygally's mini-tournament          2W  b1c3   +29   \n",
       "3           44  alygally's mini-tournament          2B  f8c5   +37   \n",
       "4           44  alygally's mini-tournament          3W  f1c4   +16   \n",
       "\n",
       "                                              comment  segment_id  label  \\\n",
       "id                                                                         \n",
       "0   This is my first gameknot game against someone...           0      0   \n",
       "1                                                 NaN           1      0   \n",
       "2   I've been playing the Vienna Gambit as white, ...           1      0   \n",
       "3                               Minor disappointment.           2      0   \n",
       "4                                                 NaN           3      0   \n",
       "\n",
       "    language  \n",
       "id            \n",
       "0        NaN  \n",
       "1        NaN  \n",
       "2        NaN  \n",
       "3        NaN  \n",
       "4        NaN  "
      ],
      "text/html": "<div>\n<style scoped>\n    .dataframe tbody tr th:only-of-type {\n        vertical-align: middle;\n    }\n\n    .dataframe tbody tr th {\n        vertical-align: top;\n    }\n\n    .dataframe thead th {\n        text-align: right;\n    }\n</style>\n<table border=\"1\" class=\"dataframe\">\n  <thead>\n    <tr style=\"text-align: right;\">\n      <th></th>\n      <th>pgn_number</th>\n      <th>event</th>\n      <th>move_number</th>\n      <th>move</th>\n      <th>score</th>\n      <th>comment</th>\n      <th>segment_id</th>\n      <th>label</th>\n      <th>language</th>\n    </tr>\n    <tr>\n      <th>id</th>\n      <th></th>\n      <th></th>\n      <th></th>\n      <th></th>\n      <th></th>\n      <th></th>\n      <th></th>\n      <th></th>\n      <th></th>\n    </tr>\n  </thead>\n  <tbody>\n    <tr>\n      <th>0</th>\n      <td>44</td>\n      <td>alygally's mini-tournament</td>\n      <td>1W</td>\n      <td>e2e4</td>\n      <td>+22</td>\n      <td>This is my first gameknot game against someone...</td>\n      <td>0</td>\n      <td>0</td>\n      <td>NaN</td>\n    </tr>\n    <tr>\n      <th>1</th>\n      <td>44</td>\n      <td>alygally's mini-tournament</td>\n      <td>1B</td>\n      <td>e7e5</td>\n      <td>+24</td>\n      <td>NaN</td>\n      <td>1</td>\n      <td>0</td>\n      <td>NaN</td>\n    </tr>\n    <tr>\n      <th>2</th>\n      <td>44</td>\n      <td>alygally's mini-tournament</td>\n      <td>2W</td>\n      <td>b1c3</td>\n      <td>+29</td>\n      <td>I've been playing the Vienna Gambit as white, ...</td>\n      <td>1</td>\n      <td>0</td>\n      <td>NaN</td>\n    </tr>\n    <tr>\n      <th>3</th>\n      <td>44</td>\n      <td>alygally's mini-tournament</td>\n      <td>2B</td>\n      <td>f8c5</td>\n      <td>+37</td>\n      <td>Minor disappointment.</td>\n      <td>2</td>\n      <td>0</td>\n      <td>NaN</td>\n    </tr>\n    <tr>\n      <th>4</th>\n      <td>44</td>\n      <td>alygally's mini-tournament</td>\n      <td>3W</td>\n      <td>f1c4</td>\n      <td>+16</td>\n      <td>NaN</td>\n      <td>3</td>\n      <td>0</td>\n      <td>NaN</td>\n    </tr>\n  </tbody>\n</table>\n</div>"
     },
     "metadata": {},
     "execution_count": 6
    }
   ],
   "source": [
    "scores.head()"
   ]
  },
  {
   "cell_type": "code",
   "execution_count": 41,
   "metadata": {},
   "outputs": [],
   "source": [
    "comments = scores[\"comment\"].to_list()"
   ]
  },
  {
   "cell_type": "code",
   "execution_count": 45,
   "metadata": {},
   "outputs": [],
   "source": [
    "comment_languages = []\n",
    "\n",
    "for comment in comments:\n",
    "    try:\n",
    "        comment_languages.append(detect(comment))\n",
    "    except:\n",
    "        comment_languages.append(np.nan)"
   ]
  },
  {
   "cell_type": "code",
   "execution_count": 47,
   "metadata": {},
   "outputs": [],
   "source": [
    "scores[\"language\"] = comment_languages"
   ]
  },
  {
   "cell_type": "code",
   "execution_count": 52,
   "metadata": {},
   "outputs": [
    {
     "output_type": "execute_result",
     "data": {
      "text/plain": [
       "en    300752\n",
       "es      3417\n",
       "it      3312\n",
       "de      2877\n",
       "tl      2543\n",
       "af      2297\n",
       "fr      2269\n",
       "nl      2232\n",
       "sv      1683\n",
       "pt      1588\n",
       "id      1522\n",
       "no      1464\n",
       "da      1330\n",
       "et      1260\n",
       "ca      1195\n",
       "pl      1184\n",
       "cy      1089\n",
       "so      1031\n",
       "ro       805\n",
       "vi       792\n",
       "sq       520\n",
       "sk       375\n",
       "sl       353\n",
       "sw       342\n",
       "tr       290\n",
       "fi       262\n",
       "hr       120\n",
       "cs       118\n",
       "hu        89\n",
       "lt        40\n",
       "lv        38\n",
       "bn         1\n",
       "Name: language, dtype: int64"
      ]
     },
     "metadata": {},
     "execution_count": 52
    }
   ],
   "source": [
    "scores[\"language\"].value_counts()"
   ]
  },
  {
   "cell_type": "code",
   "execution_count": 55,
   "metadata": {},
   "outputs": [
    {
     "output_type": "execute_result",
     "data": {
      "text/plain": [
       "300752"
      ]
     },
     "metadata": {},
     "execution_count": 55
    }
   ],
   "source": [
    "scores[scores[\"language\"] == 'en'][\"language\"].count()"
   ]
  },
  {
   "cell_type": "code",
   "execution_count": 58,
   "metadata": {},
   "outputs": [
    {
     "output_type": "execute_result",
     "data": {
      "text/plain": [
       "36438"
      ]
     },
     "metadata": {},
     "execution_count": 58
    }
   ],
   "source": [
    "scores[scores[\"language\"] != 'en'][\"language\"].count()"
   ]
  },
  {
   "cell_type": "code",
   "execution_count": 63,
   "metadata": {},
   "outputs": [
    {
     "output_type": "execute_result",
     "data": {
      "text/plain": [
       "       pgn_number                                              event  \\\n",
       "id                                                                     \n",
       "561           133                           Status Quo vs. Mot�rhead   \n",
       "2335          277                              I hate timing out =_=   \n",
       "5001          538                           You gonna eat that shoe?   \n",
       "8346          887                                 League division C3   \n",
       "8369          887                                 League division C3   \n",
       "8473          887                                 League division C3   \n",
       "8493          887                                 League division C3   \n",
       "8499          887                                 League division C3   \n",
       "8505          887                                 League division C3   \n",
       "13018        1665                                hi sir 2 a new term   \n",
       "18629        2318                  your turn to be white, I think...   \n",
       "18920        2346                                   Let's play chess   \n",
       "24543        3323                                   Let's play chess   \n",
       "25038        3443                                         Team match   \n",
       "28104        3808            Sicilian Game: Defending against 2. Bc4   \n",
       "28218        3812                           Nutmeg Of Consolation XX   \n",
       "28515        3873                                       bring it on!   \n",
       "28965        3950  Fisher/Reti opening for black, Queenside count...   \n",
       "28985        3953                  e4/e5/Nf3/Nc6, Three Knights Game   \n",
       "28993        3953                  e4/e5/Nf3/Nc6, Three Knights Game   \n",
       "29273        3963             It never hurts to play for a stalemate   \n",
       "29315        3963             It never hurts to play for a stalemate   \n",
       "31877        4312                          Challenge from scottlysan   \n",
       "31881        4312                          Challenge from scottlysan   \n",
       "32407        4431                            chess tricks lesson one   \n",
       "33630        4576                                                NaN   \n",
       "34233        4641                                 34th GK tournament   \n",
       "35365        5019            2nd Official Great Lakes minitournament   \n",
       "35864        5133                                   Let's play chess   \n",
       "37321        5357                                         Team match   \n",
       "\n",
       "      move_number  move  score  \\\n",
       "id                               \n",
       "561           22W  f2f4    -33   \n",
       "2335          26W  b1c3  +1875   \n",
       "5001           7B  g7f6   -187   \n",
       "8346          12W  b1d2   -268   \n",
       "8369          23B  e6e5   +142   \n",
       "8473          75B  h7h8  +6166   \n",
       "8493          85B  h3h4  +5565   \n",
       "8499          88B  g2f1   +209   \n",
       "8505          91B  f1g2   #+12   \n",
       "13018         15W  c4b4   +762   \n",
       "18629         37W  f3g2   +957   \n",
       "18920         11B  g4d1   -721   \n",
       "24543          8W  g1f3    +15   \n",
       "25038         12B  b7c6  +1162   \n",
       "28104         22B  d5g2  -1051   \n",
       "28218         53B  h7h8    #+7   \n",
       "28515         21W  g1g2   +186   \n",
       "28965         41W  h4h5    #-4   \n",
       "28985          9W  g2g3    -13   \n",
       "28993         13W  f1g2   -373   \n",
       "29273         28B  f4g2   -705   \n",
       "29315         49B  h3h4    -55   \n",
       "31877         45B  g5f4    #+4   \n",
       "31881         47B  g5h6    #+1   \n",
       "32407         25W  a1d4  -1125   \n",
       "33630         15W  f1e2   -313   \n",
       "34233         38B  g8f8   +592   \n",
       "35365          8B  f6e4   +386   \n",
       "35864          8W  f3e5   -171   \n",
       "37321         15B  a7a5    +22   \n",
       "\n",
       "                                                 comment  segment_id  label  \\\n",
       "id                                                                            \n",
       "561                               22.Qxg5 hxg5 23.Re5 !?         192      0   \n",
       "2335                                           Ca-ching!         988      0   \n",
       "5001                                       Qxc3 ?? Bxc3.        2181      0   \n",
       "8346                          [12.Kh1 Sg4 13.Lxg7 Kxg7=]        3733      1   \n",
       "8369                                       [23...Dc7!?=]        3738      1   \n",
       "8473   75. - Kh6 76. Nf7  Kh5 77. Kf5 Kh4 78. Kf4 Kh3...        3744      0   \n",
       "8493   85. - Kh2 86. Be6 Kg1 87. Kg3 Kh1 88. Ng4 Kg1 ...        3747      0   \n",
       "8499   88. - Kh3 89. Kf3 Kh2 90. Bc4 Kh3 91. Bd3 Kh2 ...        3750      0   \n",
       "8505   91. - Ke1 92. Ba4 Kf1 93. Nc2 Kg2 94. Kf4 Kh3 ...        3751      0   \n",
       "13018                                                thx        5872      0   \n",
       "18629                                               thus        8424      0   \n",
       "18920                                               thus        8590      0   \n",
       "24543                                             ?  Qc2       11347      0   \n",
       "25038                                               bxc6       11555      0   \n",
       "28104                                       22...Bxg2 !!       13182      0   \n",
       "28218                                Not 53...Kg8 54. h7       13225      0   \n",
       "28515                                              Nh3 ?       13373      0   \n",
       "28965                             41. Kc1 f2 41. h5 gxh5       13545      0   \n",
       "28985  9. ... Qh3 10. Qd3 Qg2 11. O-O-O Bg4 12. Rh-g1...       13551      0   \n",
       "28993                 13. ... Nxg2 14. Nxc6 Bxf2 15. Rd2       13556      1   \n",
       "29273             29. Kxg2 Bc8 30. Nxc8 Rxc8 31. Rb4 Bc3       13638      0   \n",
       "29315                           50. Kg3 Rg4  51. Kh3 Kg6       13642      0   \n",
       "31877                        ...Kh4 46. g3  Kh3 47. Qh5#       14890      0   \n",
       "31881                        ...Kh4 48. g3  Kh3 49. Qh5#       14891      0   \n",
       "32407                                          NATURALLY       15180      0   \n",
       "33630                                        15.Qe2  Nc4       15669      0   \n",
       "34233                                        Not Kh8 Rh5       16028      0   \n",
       "35365                                          Ne4? Nh5!       16631      0   \n",
       "35864                                      Attacking c6.       16726      1   \n",
       "37321                              on 15 ... Nh5? 16 Qg4       17384      0   \n",
       "\n",
       "      language  \n",
       "id              \n",
       "561         vi  \n",
       "2335        vi  \n",
       "5001        vi  \n",
       "8346        vi  \n",
       "8369        vi  \n",
       "8473        vi  \n",
       "8493        vi  \n",
       "8499        vi  \n",
       "8505        vi  \n",
       "13018       vi  \n",
       "18629       vi  \n",
       "18920       vi  \n",
       "24543       vi  \n",
       "25038       vi  \n",
       "28104       vi  \n",
       "28218       vi  \n",
       "28515       vi  \n",
       "28965       vi  \n",
       "28985       vi  \n",
       "28993       vi  \n",
       "29273       vi  \n",
       "29315       vi  \n",
       "31877       vi  \n",
       "31881       vi  \n",
       "32407       vi  \n",
       "33630       vi  \n",
       "34233       vi  \n",
       "35365       vi  \n",
       "35864       vi  \n",
       "37321       vi  "
      ],
      "text/html": "<div>\n<style scoped>\n    .dataframe tbody tr th:only-of-type {\n        vertical-align: middle;\n    }\n\n    .dataframe tbody tr th {\n        vertical-align: top;\n    }\n\n    .dataframe thead th {\n        text-align: right;\n    }\n</style>\n<table border=\"1\" class=\"dataframe\">\n  <thead>\n    <tr style=\"text-align: right;\">\n      <th></th>\n      <th>pgn_number</th>\n      <th>event</th>\n      <th>move_number</th>\n      <th>move</th>\n      <th>score</th>\n      <th>comment</th>\n      <th>segment_id</th>\n      <th>label</th>\n      <th>language</th>\n    </tr>\n    <tr>\n      <th>id</th>\n      <th></th>\n      <th></th>\n      <th></th>\n      <th></th>\n      <th></th>\n      <th></th>\n      <th></th>\n      <th></th>\n      <th></th>\n    </tr>\n  </thead>\n  <tbody>\n    <tr>\n      <th>561</th>\n      <td>133</td>\n      <td>Status Quo vs. Mot�rhead</td>\n      <td>22W</td>\n      <td>f2f4</td>\n      <td>-33</td>\n      <td>22.Qxg5 hxg5 23.Re5 !?</td>\n      <td>192</td>\n      <td>0</td>\n      <td>vi</td>\n    </tr>\n    <tr>\n      <th>2335</th>\n      <td>277</td>\n      <td>I hate timing out =_=</td>\n      <td>26W</td>\n      <td>b1c3</td>\n      <td>+1875</td>\n      <td>Ca-ching!</td>\n      <td>988</td>\n      <td>0</td>\n      <td>vi</td>\n    </tr>\n    <tr>\n      <th>5001</th>\n      <td>538</td>\n      <td>You gonna eat that shoe?</td>\n      <td>7B</td>\n      <td>g7f6</td>\n      <td>-187</td>\n      <td>Qxc3 ?? Bxc3.</td>\n      <td>2181</td>\n      <td>0</td>\n      <td>vi</td>\n    </tr>\n    <tr>\n      <th>8346</th>\n      <td>887</td>\n      <td>League division C3</td>\n      <td>12W</td>\n      <td>b1d2</td>\n      <td>-268</td>\n      <td>[12.Kh1 Sg4 13.Lxg7 Kxg7=]</td>\n      <td>3733</td>\n      <td>1</td>\n      <td>vi</td>\n    </tr>\n    <tr>\n      <th>8369</th>\n      <td>887</td>\n      <td>League division C3</td>\n      <td>23B</td>\n      <td>e6e5</td>\n      <td>+142</td>\n      <td>[23...Dc7!?=]</td>\n      <td>3738</td>\n      <td>1</td>\n      <td>vi</td>\n    </tr>\n    <tr>\n      <th>8473</th>\n      <td>887</td>\n      <td>League division C3</td>\n      <td>75B</td>\n      <td>h7h8</td>\n      <td>+6166</td>\n      <td>75. - Kh6 76. Nf7  Kh5 77. Kf5 Kh4 78. Kf4 Kh3...</td>\n      <td>3744</td>\n      <td>0</td>\n      <td>vi</td>\n    </tr>\n    <tr>\n      <th>8493</th>\n      <td>887</td>\n      <td>League division C3</td>\n      <td>85B</td>\n      <td>h3h4</td>\n      <td>+5565</td>\n      <td>85. - Kh2 86. Be6 Kg1 87. Kg3 Kh1 88. Ng4 Kg1 ...</td>\n      <td>3747</td>\n      <td>0</td>\n      <td>vi</td>\n    </tr>\n    <tr>\n      <th>8499</th>\n      <td>887</td>\n      <td>League division C3</td>\n      <td>88B</td>\n      <td>g2f1</td>\n      <td>+209</td>\n      <td>88. - Kh3 89. Kf3 Kh2 90. Bc4 Kh3 91. Bd3 Kh2 ...</td>\n      <td>3750</td>\n      <td>0</td>\n      <td>vi</td>\n    </tr>\n    <tr>\n      <th>8505</th>\n      <td>887</td>\n      <td>League division C3</td>\n      <td>91B</td>\n      <td>f1g2</td>\n      <td>#+12</td>\n      <td>91. - Ke1 92. Ba4 Kf1 93. Nc2 Kg2 94. Kf4 Kh3 ...</td>\n      <td>3751</td>\n      <td>0</td>\n      <td>vi</td>\n    </tr>\n    <tr>\n      <th>13018</th>\n      <td>1665</td>\n      <td>hi sir 2 a new term</td>\n      <td>15W</td>\n      <td>c4b4</td>\n      <td>+762</td>\n      <td>thx</td>\n      <td>5872</td>\n      <td>0</td>\n      <td>vi</td>\n    </tr>\n    <tr>\n      <th>18629</th>\n      <td>2318</td>\n      <td>your turn to be white, I think...</td>\n      <td>37W</td>\n      <td>f3g2</td>\n      <td>+957</td>\n      <td>thus</td>\n      <td>8424</td>\n      <td>0</td>\n      <td>vi</td>\n    </tr>\n    <tr>\n      <th>18920</th>\n      <td>2346</td>\n      <td>Let's play chess</td>\n      <td>11B</td>\n      <td>g4d1</td>\n      <td>-721</td>\n      <td>thus</td>\n      <td>8590</td>\n      <td>0</td>\n      <td>vi</td>\n    </tr>\n    <tr>\n      <th>24543</th>\n      <td>3323</td>\n      <td>Let's play chess</td>\n      <td>8W</td>\n      <td>g1f3</td>\n      <td>+15</td>\n      <td>?  Qc2</td>\n      <td>11347</td>\n      <td>0</td>\n      <td>vi</td>\n    </tr>\n    <tr>\n      <th>25038</th>\n      <td>3443</td>\n      <td>Team match</td>\n      <td>12B</td>\n      <td>b7c6</td>\n      <td>+1162</td>\n      <td>bxc6</td>\n      <td>11555</td>\n      <td>0</td>\n      <td>vi</td>\n    </tr>\n    <tr>\n      <th>28104</th>\n      <td>3808</td>\n      <td>Sicilian Game: Defending against 2. Bc4</td>\n      <td>22B</td>\n      <td>d5g2</td>\n      <td>-1051</td>\n      <td>22...Bxg2 !!</td>\n      <td>13182</td>\n      <td>0</td>\n      <td>vi</td>\n    </tr>\n    <tr>\n      <th>28218</th>\n      <td>3812</td>\n      <td>Nutmeg Of Consolation XX</td>\n      <td>53B</td>\n      <td>h7h8</td>\n      <td>#+7</td>\n      <td>Not 53...Kg8 54. h7</td>\n      <td>13225</td>\n      <td>0</td>\n      <td>vi</td>\n    </tr>\n    <tr>\n      <th>28515</th>\n      <td>3873</td>\n      <td>bring it on!</td>\n      <td>21W</td>\n      <td>g1g2</td>\n      <td>+186</td>\n      <td>Nh3 ?</td>\n      <td>13373</td>\n      <td>0</td>\n      <td>vi</td>\n    </tr>\n    <tr>\n      <th>28965</th>\n      <td>3950</td>\n      <td>Fisher/Reti opening for black, Queenside count...</td>\n      <td>41W</td>\n      <td>h4h5</td>\n      <td>#-4</td>\n      <td>41. Kc1 f2 41. h5 gxh5</td>\n      <td>13545</td>\n      <td>0</td>\n      <td>vi</td>\n    </tr>\n    <tr>\n      <th>28985</th>\n      <td>3953</td>\n      <td>e4/e5/Nf3/Nc6, Three Knights Game</td>\n      <td>9W</td>\n      <td>g2g3</td>\n      <td>-13</td>\n      <td>9. ... Qh3 10. Qd3 Qg2 11. O-O-O Bg4 12. Rh-g1...</td>\n      <td>13551</td>\n      <td>0</td>\n      <td>vi</td>\n    </tr>\n    <tr>\n      <th>28993</th>\n      <td>3953</td>\n      <td>e4/e5/Nf3/Nc6, Three Knights Game</td>\n      <td>13W</td>\n      <td>f1g2</td>\n      <td>-373</td>\n      <td>13. ... Nxg2 14. Nxc6 Bxf2 15. Rd2</td>\n      <td>13556</td>\n      <td>1</td>\n      <td>vi</td>\n    </tr>\n    <tr>\n      <th>29273</th>\n      <td>3963</td>\n      <td>It never hurts to play for a stalemate</td>\n      <td>28B</td>\n      <td>f4g2</td>\n      <td>-705</td>\n      <td>29. Kxg2 Bc8 30. Nxc8 Rxc8 31. Rb4 Bc3</td>\n      <td>13638</td>\n      <td>0</td>\n      <td>vi</td>\n    </tr>\n    <tr>\n      <th>29315</th>\n      <td>3963</td>\n      <td>It never hurts to play for a stalemate</td>\n      <td>49B</td>\n      <td>h3h4</td>\n      <td>-55</td>\n      <td>50. Kg3 Rg4  51. Kh3 Kg6</td>\n      <td>13642</td>\n      <td>0</td>\n      <td>vi</td>\n    </tr>\n    <tr>\n      <th>31877</th>\n      <td>4312</td>\n      <td>Challenge from scottlysan</td>\n      <td>45B</td>\n      <td>g5f4</td>\n      <td>#+4</td>\n      <td>...Kh4 46. g3  Kh3 47. Qh5#</td>\n      <td>14890</td>\n      <td>0</td>\n      <td>vi</td>\n    </tr>\n    <tr>\n      <th>31881</th>\n      <td>4312</td>\n      <td>Challenge from scottlysan</td>\n      <td>47B</td>\n      <td>g5h6</td>\n      <td>#+1</td>\n      <td>...Kh4 48. g3  Kh3 49. Qh5#</td>\n      <td>14891</td>\n      <td>0</td>\n      <td>vi</td>\n    </tr>\n    <tr>\n      <th>32407</th>\n      <td>4431</td>\n      <td>chess tricks lesson one</td>\n      <td>25W</td>\n      <td>a1d4</td>\n      <td>-1125</td>\n      <td>NATURALLY</td>\n      <td>15180</td>\n      <td>0</td>\n      <td>vi</td>\n    </tr>\n    <tr>\n      <th>33630</th>\n      <td>4576</td>\n      <td>NaN</td>\n      <td>15W</td>\n      <td>f1e2</td>\n      <td>-313</td>\n      <td>15.Qe2  Nc4</td>\n      <td>15669</td>\n      <td>0</td>\n      <td>vi</td>\n    </tr>\n    <tr>\n      <th>34233</th>\n      <td>4641</td>\n      <td>34th GK tournament</td>\n      <td>38B</td>\n      <td>g8f8</td>\n      <td>+592</td>\n      <td>Not Kh8 Rh5</td>\n      <td>16028</td>\n      <td>0</td>\n      <td>vi</td>\n    </tr>\n    <tr>\n      <th>35365</th>\n      <td>5019</td>\n      <td>2nd Official Great Lakes minitournament</td>\n      <td>8B</td>\n      <td>f6e4</td>\n      <td>+386</td>\n      <td>Ne4? Nh5!</td>\n      <td>16631</td>\n      <td>0</td>\n      <td>vi</td>\n    </tr>\n    <tr>\n      <th>35864</th>\n      <td>5133</td>\n      <td>Let's play chess</td>\n      <td>8W</td>\n      <td>f3e5</td>\n      <td>-171</td>\n      <td>Attacking c6.</td>\n      <td>16726</td>\n      <td>1</td>\n      <td>vi</td>\n    </tr>\n    <tr>\n      <th>37321</th>\n      <td>5357</td>\n      <td>Team match</td>\n      <td>15B</td>\n      <td>a7a5</td>\n      <td>+22</td>\n      <td>on 15 ... Nh5? 16 Qg4</td>\n      <td>17384</td>\n      <td>0</td>\n      <td>vi</td>\n    </tr>\n  </tbody>\n</table>\n</div>"
     },
     "metadata": {},
     "execution_count": 63
    }
   ],
   "source": [
    "scores[scores[\"language\"] == 'vi'].head(30)"
   ]
  },
  {
   "cell_type": "code",
   "execution_count": 66,
   "metadata": {},
   "outputs": [
    {
     "output_type": "execute_result",
     "data": {
      "text/plain": [
       "       pgn_number                              event move_number  move score  \\\n",
       "id                                                                             \n",
       "18557        2318  your turn to be white, I think...          1W  e2e4   +23   \n",
       "18558        2318  your turn to be white, I think...          1B  e7e5   +54   \n",
       "18559        2318  your turn to be white, I think...          2W  d2d3   -15   \n",
       "18560        2318  your turn to be white, I think...          2B  d7d5    +6   \n",
       "18561        2318  your turn to be white, I think...          3W  d1f3  -105   \n",
       "18562        2318  your turn to be white, I think...          3B  d5d4   -25   \n",
       "18563        2318  your turn to be white, I think...          4W  b2b3   -78   \n",
       "18564        2318  your turn to be white, I think...          4B  f8b4   -51   \n",
       "18565        2318  your turn to be white, I think...          5W  b1d2   -51   \n",
       "18566        2318  your turn to be white, I think...          5B  b8d7   -45   \n",
       "18567        2318  your turn to be white, I think...          6W  c1b2   -57   \n",
       "18568        2318  your turn to be white, I think...          6B  d7b6   +47   \n",
       "18569        2318  your turn to be white, I think...          7W  g2g3   -45   \n",
       "18570        2318  your turn to be white, I think...          7B  g8h6   -62   \n",
       "18571        2318  your turn to be white, I think...          8W  f1h3  -115   \n",
       "18572        2318  your turn to be white, I think...          8B  d8g5    -7   \n",
       "18573        2318  your turn to be white, I think...          9W  e1c1   -82   \n",
       "18574        2318  your turn to be white, I think...          9B  c8g4   +37   \n",
       "18575        2318  your turn to be white, I think...         10W  h3g4   +56   \n",
       "18576        2318  your turn to be white, I think...         10B  h6g4   +69   \n",
       "18577        2318  your turn to be white, I think...         11W  h2h4   -87   \n",
       "18578        2318  your turn to be white, I think...         11B  g5g6   -34   \n",
       "18579        2318  your turn to be white, I think...         12W  a2a3   -44   \n",
       "18580        2318  your turn to be white, I think...         12B  b4d2   -32   \n",
       "18581        2318  your turn to be white, I think...         13W  d1d2   -39   \n",
       "18582        2318  your turn to be white, I think...         13B  e8g8    +9   \n",
       "18583        2318  your turn to be white, I think...         14W  a3a4   -69   \n",
       "18584        2318  your turn to be white, I think...         14B  c7c5   -28   \n",
       "18585        2318  your turn to be white, I think...         15W  b2a3  -216   \n",
       "18586        2318  your turn to be white, I think...         15B  b6d7   -95   \n",
       "\n",
       "                                                 comment  segment_id  label  \\\n",
       "id                                                                            \n",
       "18557               AN elegent game that is over quickly        8401      1   \n",
       "18558                                                NaN        8402      0   \n",
       "18559                                                NaN        8402      0   \n",
       "18560  Black pushes for an advantage unbalancing the ...        8402      0   \n",
       "18561                                                NaN        8403      1   \n",
       "18562  with this move, black establishes control of t...        8403      0   \n",
       "18563                    I prepare my house for the king        8404      0   \n",
       "18564                                              check        8405      0   \n",
       "18565                my homebuilding plans are disrupted        8406      0   \n",
       "18566                                                NaN        8407      0   \n",
       "18567                         but undeterred, I continue        8407      0   \n",
       "18568                                                NaN        8408      0   \n",
       "18569                                                NaN        8408      0   \n",
       "18570                                                NaN        8408      0   \n",
       "18571                                                NaN        8408      0   \n",
       "18572  This move begins the series of moves that trap...        8408      1   \n",
       "18573                                                NaN        8409      0   \n",
       "18574                                                NaN        8409      0   \n",
       "18575                                                NaN        8409      0   \n",
       "18576                                                NaN        8409      0   \n",
       "18577                                                NaN        8409      0   \n",
       "18578                                                NaN        8409      0   \n",
       "18579                                                NaN        8409      0   \n",
       "18580             an exchange by black to thin the ranks        8409      0   \n",
       "18581                                                NaN        8410      0   \n",
       "18582                                                NaN        8410      0   \n",
       "18583                                                NaN        8410      0   \n",
       "18584                                                NaN        8410      0   \n",
       "18585                                                NaN        8410      1   \n",
       "18586                                                NaN        8410      1   \n",
       "\n",
       "      language  \n",
       "id              \n",
       "18557       en  \n",
       "18558      NaN  \n",
       "18559      NaN  \n",
       "18560       en  \n",
       "18561      NaN  \n",
       "18562       en  \n",
       "18563       en  \n",
       "18564       de  \n",
       "18565       en  \n",
       "18566      NaN  \n",
       "18567       en  \n",
       "18568      NaN  \n",
       "18569      NaN  \n",
       "18570      NaN  \n",
       "18571      NaN  \n",
       "18572       en  \n",
       "18573      NaN  \n",
       "18574      NaN  \n",
       "18575      NaN  \n",
       "18576      NaN  \n",
       "18577      NaN  \n",
       "18578      NaN  \n",
       "18579      NaN  \n",
       "18580       en  \n",
       "18581      NaN  \n",
       "18582      NaN  \n",
       "18583      NaN  \n",
       "18584      NaN  \n",
       "18585      NaN  \n",
       "18586      NaN  "
      ],
      "text/html": "<div>\n<style scoped>\n    .dataframe tbody tr th:only-of-type {\n        vertical-align: middle;\n    }\n\n    .dataframe tbody tr th {\n        vertical-align: top;\n    }\n\n    .dataframe thead th {\n        text-align: right;\n    }\n</style>\n<table border=\"1\" class=\"dataframe\">\n  <thead>\n    <tr style=\"text-align: right;\">\n      <th></th>\n      <th>pgn_number</th>\n      <th>event</th>\n      <th>move_number</th>\n      <th>move</th>\n      <th>score</th>\n      <th>comment</th>\n      <th>segment_id</th>\n      <th>label</th>\n      <th>language</th>\n    </tr>\n    <tr>\n      <th>id</th>\n      <th></th>\n      <th></th>\n      <th></th>\n      <th></th>\n      <th></th>\n      <th></th>\n      <th></th>\n      <th></th>\n      <th></th>\n    </tr>\n  </thead>\n  <tbody>\n    <tr>\n      <th>18557</th>\n      <td>2318</td>\n      <td>your turn to be white, I think...</td>\n      <td>1W</td>\n      <td>e2e4</td>\n      <td>+23</td>\n      <td>AN elegent game that is over quickly</td>\n      <td>8401</td>\n      <td>1</td>\n      <td>en</td>\n    </tr>\n    <tr>\n      <th>18558</th>\n      <td>2318</td>\n      <td>your turn to be white, I think...</td>\n      <td>1B</td>\n      <td>e7e5</td>\n      <td>+54</td>\n      <td>NaN</td>\n      <td>8402</td>\n      <td>0</td>\n      <td>NaN</td>\n    </tr>\n    <tr>\n      <th>18559</th>\n      <td>2318</td>\n      <td>your turn to be white, I think...</td>\n      <td>2W</td>\n      <td>d2d3</td>\n      <td>-15</td>\n      <td>NaN</td>\n      <td>8402</td>\n      <td>0</td>\n      <td>NaN</td>\n    </tr>\n    <tr>\n      <th>18560</th>\n      <td>2318</td>\n      <td>your turn to be white, I think...</td>\n      <td>2B</td>\n      <td>d7d5</td>\n      <td>+6</td>\n      <td>Black pushes for an advantage unbalancing the ...</td>\n      <td>8402</td>\n      <td>0</td>\n      <td>en</td>\n    </tr>\n    <tr>\n      <th>18561</th>\n      <td>2318</td>\n      <td>your turn to be white, I think...</td>\n      <td>3W</td>\n      <td>d1f3</td>\n      <td>-105</td>\n      <td>NaN</td>\n      <td>8403</td>\n      <td>1</td>\n      <td>NaN</td>\n    </tr>\n    <tr>\n      <th>18562</th>\n      <td>2318</td>\n      <td>your turn to be white, I think...</td>\n      <td>3B</td>\n      <td>d5d4</td>\n      <td>-25</td>\n      <td>with this move, black establishes control of t...</td>\n      <td>8403</td>\n      <td>0</td>\n      <td>en</td>\n    </tr>\n    <tr>\n      <th>18563</th>\n      <td>2318</td>\n      <td>your turn to be white, I think...</td>\n      <td>4W</td>\n      <td>b2b3</td>\n      <td>-78</td>\n      <td>I prepare my house for the king</td>\n      <td>8404</td>\n      <td>0</td>\n      <td>en</td>\n    </tr>\n    <tr>\n      <th>18564</th>\n      <td>2318</td>\n      <td>your turn to be white, I think...</td>\n      <td>4B</td>\n      <td>f8b4</td>\n      <td>-51</td>\n      <td>check</td>\n      <td>8405</td>\n      <td>0</td>\n      <td>de</td>\n    </tr>\n    <tr>\n      <th>18565</th>\n      <td>2318</td>\n      <td>your turn to be white, I think...</td>\n      <td>5W</td>\n      <td>b1d2</td>\n      <td>-51</td>\n      <td>my homebuilding plans are disrupted</td>\n      <td>8406</td>\n      <td>0</td>\n      <td>en</td>\n    </tr>\n    <tr>\n      <th>18566</th>\n      <td>2318</td>\n      <td>your turn to be white, I think...</td>\n      <td>5B</td>\n      <td>b8d7</td>\n      <td>-45</td>\n      <td>NaN</td>\n      <td>8407</td>\n      <td>0</td>\n      <td>NaN</td>\n    </tr>\n    <tr>\n      <th>18567</th>\n      <td>2318</td>\n      <td>your turn to be white, I think...</td>\n      <td>6W</td>\n      <td>c1b2</td>\n      <td>-57</td>\n      <td>but undeterred, I continue</td>\n      <td>8407</td>\n      <td>0</td>\n      <td>en</td>\n    </tr>\n    <tr>\n      <th>18568</th>\n      <td>2318</td>\n      <td>your turn to be white, I think...</td>\n      <td>6B</td>\n      <td>d7b6</td>\n      <td>+47</td>\n      <td>NaN</td>\n      <td>8408</td>\n      <td>0</td>\n      <td>NaN</td>\n    </tr>\n    <tr>\n      <th>18569</th>\n      <td>2318</td>\n      <td>your turn to be white, I think...</td>\n      <td>7W</td>\n      <td>g2g3</td>\n      <td>-45</td>\n      <td>NaN</td>\n      <td>8408</td>\n      <td>0</td>\n      <td>NaN</td>\n    </tr>\n    <tr>\n      <th>18570</th>\n      <td>2318</td>\n      <td>your turn to be white, I think...</td>\n      <td>7B</td>\n      <td>g8h6</td>\n      <td>-62</td>\n      <td>NaN</td>\n      <td>8408</td>\n      <td>0</td>\n      <td>NaN</td>\n    </tr>\n    <tr>\n      <th>18571</th>\n      <td>2318</td>\n      <td>your turn to be white, I think...</td>\n      <td>8W</td>\n      <td>f1h3</td>\n      <td>-115</td>\n      <td>NaN</td>\n      <td>8408</td>\n      <td>0</td>\n      <td>NaN</td>\n    </tr>\n    <tr>\n      <th>18572</th>\n      <td>2318</td>\n      <td>your turn to be white, I think...</td>\n      <td>8B</td>\n      <td>d8g5</td>\n      <td>-7</td>\n      <td>This move begins the series of moves that trap...</td>\n      <td>8408</td>\n      <td>1</td>\n      <td>en</td>\n    </tr>\n    <tr>\n      <th>18573</th>\n      <td>2318</td>\n      <td>your turn to be white, I think...</td>\n      <td>9W</td>\n      <td>e1c1</td>\n      <td>-82</td>\n      <td>NaN</td>\n      <td>8409</td>\n      <td>0</td>\n      <td>NaN</td>\n    </tr>\n    <tr>\n      <th>18574</th>\n      <td>2318</td>\n      <td>your turn to be white, I think...</td>\n      <td>9B</td>\n      <td>c8g4</td>\n      <td>+37</td>\n      <td>NaN</td>\n      <td>8409</td>\n      <td>0</td>\n      <td>NaN</td>\n    </tr>\n    <tr>\n      <th>18575</th>\n      <td>2318</td>\n      <td>your turn to be white, I think...</td>\n      <td>10W</td>\n      <td>h3g4</td>\n      <td>+56</td>\n      <td>NaN</td>\n      <td>8409</td>\n      <td>0</td>\n      <td>NaN</td>\n    </tr>\n    <tr>\n      <th>18576</th>\n      <td>2318</td>\n      <td>your turn to be white, I think...</td>\n      <td>10B</td>\n      <td>h6g4</td>\n      <td>+69</td>\n      <td>NaN</td>\n      <td>8409</td>\n      <td>0</td>\n      <td>NaN</td>\n    </tr>\n    <tr>\n      <th>18577</th>\n      <td>2318</td>\n      <td>your turn to be white, I think...</td>\n      <td>11W</td>\n      <td>h2h4</td>\n      <td>-87</td>\n      <td>NaN</td>\n      <td>8409</td>\n      <td>0</td>\n      <td>NaN</td>\n    </tr>\n    <tr>\n      <th>18578</th>\n      <td>2318</td>\n      <td>your turn to be white, I think...</td>\n      <td>11B</td>\n      <td>g5g6</td>\n      <td>-34</td>\n      <td>NaN</td>\n      <td>8409</td>\n      <td>0</td>\n      <td>NaN</td>\n    </tr>\n    <tr>\n      <th>18579</th>\n      <td>2318</td>\n      <td>your turn to be white, I think...</td>\n      <td>12W</td>\n      <td>a2a3</td>\n      <td>-44</td>\n      <td>NaN</td>\n      <td>8409</td>\n      <td>0</td>\n      <td>NaN</td>\n    </tr>\n    <tr>\n      <th>18580</th>\n      <td>2318</td>\n      <td>your turn to be white, I think...</td>\n      <td>12B</td>\n      <td>b4d2</td>\n      <td>-32</td>\n      <td>an exchange by black to thin the ranks</td>\n      <td>8409</td>\n      <td>0</td>\n      <td>en</td>\n    </tr>\n    <tr>\n      <th>18581</th>\n      <td>2318</td>\n      <td>your turn to be white, I think...</td>\n      <td>13W</td>\n      <td>d1d2</td>\n      <td>-39</td>\n      <td>NaN</td>\n      <td>8410</td>\n      <td>0</td>\n      <td>NaN</td>\n    </tr>\n    <tr>\n      <th>18582</th>\n      <td>2318</td>\n      <td>your turn to be white, I think...</td>\n      <td>13B</td>\n      <td>e8g8</td>\n      <td>+9</td>\n      <td>NaN</td>\n      <td>8410</td>\n      <td>0</td>\n      <td>NaN</td>\n    </tr>\n    <tr>\n      <th>18583</th>\n      <td>2318</td>\n      <td>your turn to be white, I think...</td>\n      <td>14W</td>\n      <td>a3a4</td>\n      <td>-69</td>\n      <td>NaN</td>\n      <td>8410</td>\n      <td>0</td>\n      <td>NaN</td>\n    </tr>\n    <tr>\n      <th>18584</th>\n      <td>2318</td>\n      <td>your turn to be white, I think...</td>\n      <td>14B</td>\n      <td>c7c5</td>\n      <td>-28</td>\n      <td>NaN</td>\n      <td>8410</td>\n      <td>0</td>\n      <td>NaN</td>\n    </tr>\n    <tr>\n      <th>18585</th>\n      <td>2318</td>\n      <td>your turn to be white, I think...</td>\n      <td>15W</td>\n      <td>b2a3</td>\n      <td>-216</td>\n      <td>NaN</td>\n      <td>8410</td>\n      <td>1</td>\n      <td>NaN</td>\n    </tr>\n    <tr>\n      <th>18586</th>\n      <td>2318</td>\n      <td>your turn to be white, I think...</td>\n      <td>15B</td>\n      <td>b6d7</td>\n      <td>-95</td>\n      <td>NaN</td>\n      <td>8410</td>\n      <td>1</td>\n      <td>NaN</td>\n    </tr>\n  </tbody>\n</table>\n</div>"
     },
     "metadata": {},
     "execution_count": 66
    }
   ],
   "source": [
    "scores[scores[\"pgn_number\"] == 2318].head(30)"
   ]
  },
  {
   "cell_type": "code",
   "execution_count": 67,
   "metadata": {},
   "outputs": [],
   "source": [
    "language_log = open(\"language_log.txt\", \"w\")\n",
    "for language in comment_languages:\n",
    "    language_log.write(f'{language}\\n')"
   ]
  },
  {
   "cell_type": "code",
   "execution_count": 68,
   "metadata": {},
   "outputs": [
    {
     "output_type": "execute_result",
     "data": {
      "text/plain": [
       "815029"
      ]
     },
     "metadata": {},
     "execution_count": 68
    }
   ],
   "source": [
    "len(comment_languages)"
   ]
  },
  {
   "cell_type": "code",
   "execution_count": null,
   "metadata": {},
   "outputs": [],
   "source": []
  }
 ]
}