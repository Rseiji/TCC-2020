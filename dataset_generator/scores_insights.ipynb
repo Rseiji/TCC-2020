{
 "metadata": {
  "language_info": {
   "codemirror_mode": {
    "name": "ipython",
    "version": 3
   },
   "file_extension": ".py",
   "mimetype": "text/x-python",
   "name": "python",
   "nbconvert_exporter": "python",
   "pygments_lexer": "ipython3",
   "version": "3.8.3-final"
  },
  "orig_nbformat": 2,
  "kernelspec": {
   "name": "Python 3.8.3 64-bit (virtualenv)",
   "display_name": "Python 3.8.3 64-bit (virtualenv)",
   "metadata": {
    "interpreter": {
     "hash": "3e6a1e35187e7d2868ed236d52ca9da5b537f2699a9ca78f769c97311af4b997"
    }
   }
  }
 },
 "nbformat": 4,
 "nbformat_minor": 2,
 "cells": [
  {
   "cell_type": "code",
   "execution_count": 1,
   "metadata": {},
   "outputs": [],
   "source": [
    "import numpy as np\n",
    "import pandas as pd"
   ]
  },
  {
   "cell_type": "code",
   "execution_count": 25,
   "metadata": {
    "tags": []
   },
   "outputs": [],
   "source": [
    "scores = pd.read_csv(\"scores_formatados.csv\", sep=';', index_col=\"Id\")"
   ]
  },
  {
   "cell_type": "code",
   "execution_count": 26,
   "metadata": {},
   "outputs": [
    {
     "output_type": "execute_result",
     "data": {
      "text/plain": "    Pgn Number                       Event Move Number  Move Score  \\\nId                                                                   \n0           44  alygally&#39;s mini-tournament          1W  e2e4    22   \n1           44  alygally&#39;s mini-tournament          1B  e7e5    24   \n2           44  alygally&#39;s mini-tournament          2W  b1c3    29   \n3           44  alygally&#39;s mini-tournament          2B  f8c5    37   \n4           44  alygally&#39;s mini-tournament          3W  f1c4    16   \n\n                                              Comment  Label  \nId                                                            \n0   This is my first gameknot game against someone...      0  \n1                                                 NaN      0  \n2   I&#39;ve been playing the Vienna Gambitas white, w...      0  \n3                               Minor disappointment.      0  \n4                                                 NaN      0  ",
      "text/html": "<div>\n<style scoped>\n    .dataframe tbody tr th:only-of-type {\n        vertical-align: middle;\n    }\n\n    .dataframe tbody tr th {\n        vertical-align: top;\n    }\n\n    .dataframe thead th {\n        text-align: right;\n    }\n</style>\n<table border=\"1\" class=\"dataframe\">\n  <thead>\n    <tr style=\"text-align: right;\">\n      <th></th>\n      <th>Pgn Number</th>\n      <th>Event</th>\n      <th>Move Number</th>\n      <th>Move</th>\n      <th>Score</th>\n      <th>Comment</th>\n      <th>Label</th>\n    </tr>\n    <tr>\n      <th>Id</th>\n      <th></th>\n      <th></th>\n      <th></th>\n      <th></th>\n      <th></th>\n      <th></th>\n      <th></th>\n    </tr>\n  </thead>\n  <tbody>\n    <tr>\n      <th>0</th>\n      <td>44</td>\n      <td>alygally's mini-tournament</td>\n      <td>1W</td>\n      <td>e2e4</td>\n      <td>22</td>\n      <td>This is my first gameknot game against someone...</td>\n      <td>0</td>\n    </tr>\n    <tr>\n      <th>1</th>\n      <td>44</td>\n      <td>alygally's mini-tournament</td>\n      <td>1B</td>\n      <td>e7e5</td>\n      <td>24</td>\n      <td>NaN</td>\n      <td>0</td>\n    </tr>\n    <tr>\n      <th>2</th>\n      <td>44</td>\n      <td>alygally's mini-tournament</td>\n      <td>2W</td>\n      <td>b1c3</td>\n      <td>29</td>\n      <td>I've been playing the Vienna Gambitas white, w...</td>\n      <td>0</td>\n    </tr>\n    <tr>\n      <th>3</th>\n      <td>44</td>\n      <td>alygally's mini-tournament</td>\n      <td>2B</td>\n      <td>f8c5</td>\n      <td>37</td>\n      <td>Minor disappointment.</td>\n      <td>0</td>\n    </tr>\n    <tr>\n      <th>4</th>\n      <td>44</td>\n      <td>alygally's mini-tournament</td>\n      <td>3W</td>\n      <td>f1c4</td>\n      <td>16</td>\n      <td>NaN</td>\n      <td>0</td>\n    </tr>\n  </tbody>\n</table>\n</div>"
     },
     "metadata": {},
     "execution_count": 26
    }
   ],
   "source": [
    "scores.head()"
   ]
  },
  {
   "cell_type": "code",
   "execution_count": 27,
   "metadata": {
    "tags": []
   },
   "outputs": [
    {
     "output_type": "stream",
     "name": "stdout",
     "text": "&lt;class &#39;pandas.core.frame.DataFrame&#39;&gt;\nInt64Index: 62542 entries, 0 to 62541\nData columns (total 7 columns):\n #   Column       Non-Null Count  Dtype \n---  ------       --------------  ----- \n 0   Pgn Number   62542 non-null  int64 \n 1   Event        62294 non-null  object\n 2   Move Number  62542 non-null  object\n 3   Move         62542 non-null  object\n 4   Score        62542 non-null  object\n 5   Comment      28711 non-null  object\n 6   Label        62542 non-null  int64 \ndtypes: int64(2), object(5)\nmemory usage: 3.8+ MB\n"
    }
   ],
   "source": [
    "scores.info()"
   ]
  },
  {
   "cell_type": "code",
   "execution_count": 29,
   "metadata": {},
   "outputs": [
    {
     "output_type": "execute_result",
     "data": {
      "text/plain": "0    60801\n1     1741\nName: Label, dtype: int64"
     },
     "metadata": {},
     "execution_count": 29
    }
   ],
   "source": [
    "scores['Label'].value_counts()"
   ]
  },
  {
   "cell_type": "code",
   "execution_count": 52,
   "metadata": {
    "tags": []
   },
   "outputs": [],
   "source": [
    "partidas_virada = scores[scores['Label'] == 1].groupby('Pgn Number')"
   ]
  },
  {
   "cell_type": "code",
   "execution_count": 57,
   "metadata": {
    "tags": []
   },
   "outputs": [
    {
     "output_type": "stream",
     "name": "stdout",
     "text": "&lt;class &#39;pandas.core.frame.DataFrame&#39;&gt;\nInt64Index: 817 entries, 44 to 8795\nData columns (total 6 columns):\n #   Column       Non-Null Count  Dtype\n---  ------       --------------  -----\n 0   Event        817 non-null    int64\n 1   Move Number  817 non-null    int64\n 2   Move         817 non-null    int64\n 3   Score        817 non-null    int64\n 4   Comment      817 non-null    int64\n 5   Label        817 non-null    int64\ndtypes: int64(6)\nmemory usage: 44.7 KB\n"
    }
   ],
   "source": [
    "partidas_virada.count().info()"
   ]
  },
  {
   "cell_type": "code",
   "execution_count": 95,
   "metadata": {},
   "outputs": [
    {
     "output_type": "execute_result",
     "data": {
      "text/plain": "1067"
     },
     "metadata": {},
     "execution_count": 95
    }
   ],
   "source": [
    "scores[scores['Label'] == 1]['Comment'].count()"
   ]
  },
  {
   "cell_type": "code",
   "execution_count": null,
   "metadata": {},
   "outputs": [],
   "source": []
  }
 ]
}